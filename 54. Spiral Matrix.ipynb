{
 "cells": [
  {
   "cell_type": "markdown",
   "metadata": {},
   "source": [
    "Given a matrix of m x n elements (m rows, n columns), return all elements of the matrix in spiral order.\n",
    "Input:\n",
    "[\n",
    " [ 1, 2, 3 ],\n",
    " [ 4, 5, 6 ],\n",
    " [ 7, 8, 9 ]\n",
    "]\n",
    "Output: [1,2,3,6,9,8,7,4,5]"
   ]
  },
  {
   "cell_type": "code",
   "execution_count": 4,
   "metadata": {},
   "outputs": [
    {
     "name": "stdout",
     "output_type": "stream",
     "text": [
      "[1, 2, 3, 4, 8, 12, 11, 10, 9, 5, 6, 7]\n"
     ]
    }
   ],
   "source": [
    "matrix=[[1, 2, 3, 4],[5, 6, 7, 8],[9,10,11,12]]\n",
    "result=[]\n",
    "if not matrix:\n",
    "    print(\"[]\")\n",
    "l=0\n",
    "r=len(matrix[0])\n",
    "t=0\n",
    "b=len(matrix)\n",
    "while l<r and t<b:\n",
    "    for i in range(l,r):\n",
    "        result.append(matrix[t][i])\n",
    "    for j in range(t+1,b-1):\n",
    "        result.append(matrix[j][r-1])\n",
    "    for i1 in reversed(range(l,r)):\n",
    "        if b-1!=t:\n",
    "            result.append(matrix[b-1][i1])\n",
    "    for j1 in reversed(range(t+1,b-1)):\n",
    "        if r-1!=l:\n",
    "            result.append(matrix[j1][l])\n",
    "    l+=1\n",
    "    r-=1\n",
    "    b-=1\n",
    "    t+=1\n",
    "print(result)\n"
   ]
  }
 ],
 "metadata": {
  "kernelspec": {
   "display_name": "Python 3",
   "language": "python",
   "name": "python3"
  },
  "language_info": {
   "codemirror_mode": {
    "name": "ipython",
    "version": 3
   },
   "file_extension": ".py",
   "mimetype": "text/x-python",
   "name": "python",
   "nbconvert_exporter": "python",
   "pygments_lexer": "ipython3",
   "version": "3.7.0"
  }
 },
 "nbformat": 4,
 "nbformat_minor": 2
}
