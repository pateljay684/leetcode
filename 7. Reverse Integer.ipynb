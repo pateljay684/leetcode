{
 "cells": [
  {
   "cell_type": "code",
   "execution_count": null,
   "metadata": {},
   "outputs": [],
   "source": [
    "if x==0:\n",
    "            return 0\n",
    "        a=str(x)\n",
    "        if a[0]==\"-\":\n",
    "            a=a[1:]\n",
    "            while True:\n",
    "                if a[-1]==\"0\":\n",
    "                    a=a[:len(a)-1]\n",
    "                else:\n",
    "                    break\n",
    "            if int(a[::-1])>2147483648:\n",
    "                return 0\n",
    "            else:\n",
    "                return int(\"-\" + a[::-1])\n",
    "        else:\n",
    "            while True:\n",
    "                if a[-1]==\"0\":\n",
    "                    a=a[:len(a)-1]\n",
    "                else:\n",
    "                    break\n",
    "            if int(a[::-1])>2147483647:\n",
    "                return 0\n",
    "            else:\n",
    "                return int(a[::-1])"
   ]
  }
 ],
 "metadata": {
  "kernelspec": {
   "display_name": "Python 3",
   "language": "python",
   "name": "python3"
  },
  "language_info": {
   "codemirror_mode": {
    "name": "ipython",
    "version": 3
   },
   "file_extension": ".py",
   "mimetype": "text/x-python",
   "name": "python",
   "nbconvert_exporter": "python",
   "pygments_lexer": "ipython3",
   "version": "3.6.4"
  }
 },
 "nbformat": 4,
 "nbformat_minor": 2
}
