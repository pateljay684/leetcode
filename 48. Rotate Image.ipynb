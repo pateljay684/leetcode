{
 "cells": [
  {
   "cell_type": "code",
   "execution_count": null,
   "metadata": {},
   "outputs": [],
   "source": [
    "if matrix is None or len(matrix)<1:\n",
    "            return\n",
    "        n=len(matrix)\n",
    "        for i in range(n):\n",
    "            for j in range(i,n):\n",
    "                tmp=matrix[i][j]\n",
    "                matrix[i][j]=matrix[j][i]\n",
    "                matrix[j][i]=tmp\n",
    "        for i in range(n):\n",
    "            head=0\n",
    "            tail=n-1\n",
    "            while(head<tail):\n",
    "                tmp=matrix[i][head]\n",
    "                matrix[i][head]=matrix[i][tail]\n",
    "                matrix[i][tail]=tmp\n",
    "                head+=1\n",
    "                tail-=1"
   ]
  }
 ],
 "metadata": {
  "kernelspec": {
   "display_name": "Python 3",
   "language": "python",
   "name": "python3"
  },
  "language_info": {
   "codemirror_mode": {
    "name": "ipython",
    "version": 3
   },
   "file_extension": ".py",
   "mimetype": "text/x-python",
   "name": "python",
   "nbconvert_exporter": "python",
   "pygments_lexer": "ipython3",
   "version": "3.6.4"
  }
 },
 "nbformat": 4,
 "nbformat_minor": 2
}
